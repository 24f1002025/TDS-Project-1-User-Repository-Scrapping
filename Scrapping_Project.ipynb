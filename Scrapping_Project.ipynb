{
  "nbformat": 4,
  "nbformat_minor": 0,
  "metadata": {
    "colab": {
      "provenance": []
    },
    "kernelspec": {
      "name": "python3",
      "display_name": "Python 3"
    },
    "language_info": {
      "name": "python"
    }
  },
  "cells": [
    {
      "cell_type": "code",
      "source": [
        "import csv\n",
        "import json\n",
        "import requests\n",
        "import time\n",
        "import pandas as pd\n",
        "from urllib.parse import quote\n",
        "\n",
        "#GitHub Token\n",
        "token = \"#########################\"\n",
        "\n",
        "def clean_company(company):\n",
        "    if company:\n",
        "        return company.strip().lstrip('@').upper()\n",
        "    return ''\n",
        "\n",
        "def get_user_details(login):\n",
        "    url = f\"https://api.github.com/users/{login}\"\n",
        "    headers = {\n",
        "        \"Authorization\": f\"token {token}\",\n",
        "        \"Accept\": \"application/vnd.github.v3+json\"\n",
        "    }\n",
        "    response = requests.get(url, headers=headers)\n",
        "    if response.status_code == 200:\n",
        "        return response.json()\n",
        "    else:\n",
        "        print(f\"Error fetching details for user {login}: {response.status_code}\")\n",
        "        return None\n",
        "\n",
        "def get_all_users():\n",
        "    all_users = []\n",
        "    queries = [\n",
        "        \"location:Zurich followers:>=50\",\n",
        "        \"location:Zürich followers:>=50\",\n",
        "        \"location:Zurich, Switzerland followers:>=50\",\n",
        "        \"location:Zürich, Switzerland followers:>=50\",\n",
        "        \"location:Zürich, Schweiz followers:>=50\",\n",
        "        \"location:Zurich, CH followers:>=50\"\n",
        "    ]\n",
        "\n",
        "    seen_logins = set()\n",
        "\n",
        "    for query in queries:\n",
        "        page = 1\n",
        "        encoded_query = quote(query)\n",
        "        while True:\n",
        "            url = f\"https://api.github.com/search/users?q={encoded_query}&sort=followers&order=desc&per_page=100&page={page}\"\n",
        "            headers = {\n",
        "                \"Authorization\": f\"token {token}\",\n",
        "                \"Accept\": \"application/vnd.github.v3+json\"\n",
        "            }\n",
        "\n",
        "            try:\n",
        "                response = requests.get(url, headers=headers)\n",
        "                response.raise_for_status()\n",
        "\n",
        "                data = response.json()\n",
        "\n",
        "                if not data.get('items'):\n",
        "                    break\n",
        "\n",
        "                for item in data['items']:\n",
        "                    if item['login'] not in seen_logins:\n",
        "                        all_users.append(item)\n",
        "                        seen_logins.add(item['login'])\n",
        "\n",
        "                print(f\"Query: {query}, Page: {page}, Total users so far: {len(all_users)}\")\n",
        "\n",
        "                if len(data['items']) < 100:\n",
        "                    break\n",
        "\n",
        "                page += 1\n",
        "                time.sleep(2)\n",
        "\n",
        "            except requests.exceptions.RequestException as e:\n",
        "                print(f\"Error fetching data: {e}\")\n",
        "                time.sleep(5)\n",
        "                continue\n",
        "\n",
        "            except Exception as e:\n",
        "                print(f\"Unexpected error: {e}\")\n",
        "                continue\n",
        "\n",
        "    print(f\"Total unique users found: {len(all_users)}\")\n",
        "    return all_users\n",
        "\n",
        "users = get_all_users()\n",
        "\n",
        "with open('users.csv', 'w', newline='', encoding='utf-8') as csvfile:\n",
        "    fieldnames = ['login', 'name', 'company', 'location', 'email', 'hireable', 'bio', 'public_repos', 'followers', 'following', 'created_at']\n",
        "    writer = csv.DictWriter(csvfile, fieldnames=fieldnames)\n",
        "\n",
        "    writer.writeheader()\n",
        "\n",
        "    for user in users:\n",
        "        try:\n",
        "            user_details = get_user_details(user['login'])\n",
        "            time.sleep(1)\n",
        "\n",
        "            if user_details:\n",
        "                writer.writerow({\n",
        "                    'login': user_details['login'],\n",
        "                    'name': user_details.get('name', ''),\n",
        "                    'company': clean_company(user_details.get('company', '')),\n",
        "                    'location': user_details.get('location', ''),\n",
        "                    'email': user_details.get('email', ''),\n",
        "                    'hireable': str(user_details.get('hireable', '')).lower(),\n",
        "                    'bio': user_details.get('bio', ''),\n",
        "                    'public_repos': user_details.get('public_repos', ''),\n",
        "                    'followers': user_details.get('followers', ''),\n",
        "                    'following': user_details.get('following', ''),\n",
        "                    'created_at': user_details.get('created_at', '')\n",
        "                })\n",
        "                print(f\"Added user: {user_details['login']}\")\n",
        "\n",
        "        except Exception as e:\n",
        "            print(f\"Error processing user {user['login']}: {e}\")\n",
        "            continue\n",
        "\n",
        "print(\"users.csv file has been created.\")"
      ],
      "metadata": {
        "id": "08DJCWTFLzq0"
      },
      "execution_count": null,
      "outputs": []
    },
    {
      "cell_type": "code",
      "source": [
        "df = pd.read_csv('users.csv')\n",
        "\n",
        "df = df.sort_values(by='followers', ascending=False)\n",
        "\n",
        "df.to_csv('users.csv', index=False)"
      ],
      "metadata": {
        "id": "RwsaKZ1EL6I5"
      },
      "execution_count": null,
      "outputs": []
    },
    {
      "cell_type": "code",
      "source": [
        "import csv\n",
        "import requests\n",
        "from datetime import datetime\n",
        "\n",
        "# Your GitHub token\n",
        "token = \"#########################################\"\n",
        "\n",
        "def get_user_repos(login):\n",
        "    url = f\"https://api.github.com/users/{login}/repos?sort=pushed&per_page=500\"\n",
        "    headers = {\n",
        "        \"Authorization\": f\"token {token}\",\n",
        "        \"Accept\": \"application/vnd.github.v3+json\"\n",
        "    }\n",
        "    response = requests.get(url, headers=headers)\n",
        "    if response.status_code == 200:\n",
        "        return response.json()\n",
        "    else:\n",
        "        print(f\"Error fetching repos for user {login}: {response.status_code}\")\n",
        "        return []\n",
        "\n",
        "users = []\n",
        "with open('users.csv', 'r', newline='', encoding='utf-8') as csvfile:\n",
        "    reader = csv.DictReader(csvfile)\n",
        "    for row in reader:\n",
        "        users.append(row['login'])\n",
        "\n",
        "with open('repositories.csv', 'w', newline='', encoding='utf-8') as csvfile:\n",
        "    fieldnames = ['login', 'full_name', 'created_at', 'stargazers_count', 'watchers_count', 'language', 'has_projects', 'has_wiki', 'license_name']\n",
        "    writer = csv.DictWriter(csvfile, fieldnames=fieldnames)\n",
        "\n",
        "    writer.writeheader()\n",
        "\n",
        "    for login in users:\n",
        "        repos = get_user_repos(login)\n",
        "        for repo in repos:\n",
        "            writer.writerow({\n",
        "                'login': login,\n",
        "                'full_name': repo['full_name'],\n",
        "                'created_at': repo['created_at'],\n",
        "                'stargazers_count': repo['stargazers_count'],\n",
        "                'watchers_count': repo['watchers_count'],\n",
        "                'language': repo['language'] or '',\n",
        "                'has_projects': str(repo['has_projects']).lower(),\n",
        "                'has_wiki': str(repo['has_wiki']).lower(),\n",
        "                'license_name': repo['license']['key'] if repo['license'] else ''\n",
        "            })\n",
        "\n",
        "print(\"repositories.csv file has been created.\")"
      ],
      "metadata": {
        "id": "OK6U9yu0L7_R"
      },
      "execution_count": null,
      "outputs": []
    },
    {
      "cell_type": "code",
      "source": [
        "############################## ANALYSIS AND VISUALIZATION ###############################"
      ],
      "metadata": {
        "id": "91gJH9qKL--M"
      },
      "execution_count": null,
      "outputs": []
    },
    {
      "cell_type": "code",
      "source": [
        "import pandas as pd\n",
        "import matplotlib.pyplot as plt\n",
        "from collections import Counter\n",
        "\n",
        "users_df = pd.read_csv('users1.csv')\n",
        "repos_df = pd.read_csv('repositories1.csv')\n",
        "\n",
        "languages = repos_df['language'].dropna().tolist()\n",
        "language_counts = Counter(languages)\n",
        "top_languages = language_counts.most_common(5)\n",
        "\n",
        "plt.figure(figsize=(10, 6))\n",
        "plt.bar([lang for lang, count in top_languages], [count for lang, count in top_languages])\n",
        "plt.title('Top 5 Programming Languages in Zurich')\n",
        "plt.xlabel('Language')\n",
        "plt.ylabel('Number of Repositories')\n",
        "plt.savefig('top_languages.png')\n",
        "\n",
        "user_avg_stars = repos_df.groupby('login')['stargazers_count'].mean().sort_values(ascending=False)\n",
        "\n",
        "correlation = users_df['public_repos'].corr(users_df['followers'])\n",
        "\n",
        "print(f\"Top 5 programming languages: {top_languages}\")\n",
        "print(f\"User with highest average stars per repo: {user_avg_stars.index[0]} ({user_avg_stars.values[0]:.2f} stars)\")\n",
        "print(f\"Correlation between public repos and followers: {correlation:.2f}\")"
      ],
      "metadata": {
        "colab": {
          "base_uri": "https://localhost:8080/",
          "height": 489
        },
        "id": "o64J_9Bp_gzy",
        "outputId": "b59071d7-6ab5-4e77-bf91-e3f3788890cf"
      },
      "execution_count": null,
      "outputs": [
        {
          "output_type": "stream",
          "name": "stdout",
          "text": [
            "Top 5 programming languages: [('Python', 3349), ('JavaScript', 2803), ('C++', 1394), ('Java', 971), ('HTML', 866)]\n",
            "User with highest average stars per repo: klaudiosinani (1012.43 stars)\n",
            "Correlation between public repos and followers: 0.07\n"
          ]
        },
        {
          "output_type": "display_data",
          "data": {
            "text/plain": [
              "<Figure size 1000x600 with 1 Axes>"
            ],
            "image/png": "[encoded data removed]"
          },
          "metadata": {}
        }
      ]
    },
    {
      "cell_type": "code",
      "source": [
        "import pandas as pd\n",
        "import numpy as np\n",
        "from datetime import datetime\n",
        "import re\n",
        "from scipy import stats\n",
        "\n",
        "users_df = pd.read_csv('users.csv')\n",
        "repos_df = pd.read_csv('repositories.csv')\n",
        "\n",
        "top_followers = users_df.nlargest(5,'followers')['login'].tolist()\n",
        "print(\"1.\", \",\".join(top_followers))\n",
        "\n",
        "users_df['created_at'] = pd.to_datetime(users_df['created_at'])\n",
        "\n",
        "earliest_users = users_df.nsmallest(5, 'created_at')['login'].tolist()\n",
        "print(\"2.\", \",\".join(earliest_users))\n",
        "\n",
        "top_licenses = repos_df['license_name'].value_counts().nlargest(3).index.tolist()\n",
        "print(\"3.\", \",\".join(top_licenses))\n",
        "\n",
        "users_df['company_clean'] = users_df['company'].fillna('')\n",
        "users_df['company_clean'] = users_df['company_clean'].str.lower()\n",
        "users_df['company_clean'] = users_df['company_clean'].str.replace('[^a-z0-9]', '')\n",
        "company_counts = users_df[users_df['company_clean'] != '']['company_clean'].value_counts()\n",
        "most_common_company = company_counts.index[0] if not company_counts.empty else ''\n",
        "print(\"4.\", most_common_company.upper())\n",
        "\n",
        "most_popular_lang = repos_df['language'].value_counts().index[0]\n",
        "print(\"5.\", most_popular_lang)\n",
        "\n",
        "users_after_2020 = users_df[pd.to_datetime(users_df['created_at']) > '2020-01-01']['login']\n",
        "langs_after_2020 = repos_df[repos_df['login'].isin(users_after_2020)]['language'].value_counts()\n",
        "second_popular_lang_2020 = langs_after_2020.index[1]\n",
        "print(\"6.\", second_popular_lang_2020)\n",
        "\n",
        "lang_avg_stars = repos_df.groupby('language')['stargazers_count'].mean()\n",
        "highest_avg_stars_lang = lang_avg_stars.idxmax()\n",
        "print(\"7.\", highest_avg_stars_lang)\n",
        "\n",
        "users_df['leader_strength'] = users_df['followers'] / (1 + users_df['following'])\n",
        "top_leader_strength = users_df.nlargest(5, 'leader_strength')['login'].tolist()\n",
        "print(\"8.\", \",\".join(top_leader_strength))\n",
        "\n",
        "corr_followers_repos = users_df['followers'].corr(users_df['public_repos'])\n",
        "print(f\"9. {corr_followers_repos:.3f}\")\n",
        "\n",
        "slope, _, _, _, _ = stats.linregress(users_df['public_repos'], users_df['followers'])\n",
        "print(f\"10. {slope:.3f}\")\n",
        "\n",
        "corr_projects_wiki = repos_df['has_projects'].astype(int).corr(repos_df['has_wiki'].astype(int))\n",
        "print(f\"11. {corr_projects_wiki:.3f}\")\n",
        "\n",
        "hireable_following = users_df[users_df['hireable'] == 'true']['following'].mean()\n",
        "non_hireable_following = users_df[users_df['hireable'] != 'true']['following'].mean()\n",
        "following_diff = hireable_following - non_hireable_following\n",
        "print(f\"12. {following_diff:.3f}\")\n",
        "\n",
        "users_df['bio_word_count'] = users_df['bio'].fillna('').str.split().str.len()\n",
        "users_with_bio = users_df[users_df['bio_word_count'] > 0]\n",
        "slope, _, _, _, _ = stats.linregress(users_with_bio['bio_word_count'], users_with_bio['followers'])\n",
        "print(f\"13. {slope:.3f}\")\n",
        "\n",
        "repos_df['created_at'] = pd.to_datetime(repos_df['created_at'])\n",
        "repos_df['is_weekend'] = repos_df['created_at'].dt.dayofweek.isin([5, 6])\n",
        "weekend_repos = repos_df[repos_df['is_weekend']].groupby('login').size()\n",
        "top_weekend_users = weekend_repos.nlargest(5).index.tolist()\n",
        "print(\"14.\", \",\".join(top_weekend_users))\n",
        "\n",
        "true_email_rate = users_df[users_df['hireable'] == 'true']['email'].notna().mean()\n",
        "none_email_rate = users_df[users_df['hireable'] == 'none']['email'].notna().mean()\n",
        "difference = true_email_rate - none_email_rate\n",
        "print(f\"15. {difference:.3f}\")\n",
        "\n",
        "users_df['surname'] = users_df['name'].fillna('').str.split().str[-1]\n",
        "most_common_surname = users_df['surname'].value_counts().index[0]\n",
        "surname_count = users_df['surname'].value_counts().max()\n",
        "print(f\"16. {surname_count}\")"
      ],
      "metadata": {
        "colab": {
          "base_uri": "https://localhost:8080/"
        },
        "id": "-qcg0RCBKepF",
        "outputId": "773837f3-fbee-4f90-9b8e-a4f748c4df20"
      },
      "execution_count": 1,
      "outputs": [
        {
          "output_type": "stream",
          "name": "stdout",
          "text": [
            "1. IDouble,wcandillon,TheOfficialFloW,Seldaek,twpayne\n",
            "2. matthiask,floere,oscardelben,zdavatz,nominolo\n",
            "3. mit,other,apache-2.0\n",
            "4. GOOGLE\n",
            "5. Python\n",
            "6. JavaScript\n",
            "7. Pug\n",
            "8. riscv,bpasero,Seldaek,leggedrobotics,egamma\n",
            "9. 0.066\n",
            "10. 1.325\n",
            "11. 0.363\n",
            "12. -888.086\n",
            "13. 39.404\n",
            "14. kynan,yakky,devnoname120,Sadullah-TANRIKULU,JonnyBurger\n",
            "15. 0.079\n",
            "16. 3\n"
          ]
        }
      ]
    },
    {
      "cell_type": "code",
      "source": [
        "import pandas as pd\n",
        "import re\n",
        "\n",
        "def clean_company(company):\n",
        "    if pd.isna(company) or company == '':\n",
        "        return ''\n",
        "\n",
        "    company = str(company).lower()\n",
        "\n",
        "    # Remove special characters and extra spaces\n",
        "    company = re.sub(r'[^\\w\\s]', '', company)\n",
        "    company = company.strip()\n",
        "\n",
        "    # Standardize common company names\n",
        "    company_map = {\n",
        "        'google': 'google',\n",
        "        'microsoft': 'microsoft',\n",
        "        'eth': 'eth zurich',\n",
        "        'eth zurich': 'eth zurich',\n",
        "        'ethz': 'eth zurich',\n",
        "        'nvidia': 'nvidia'\n",
        "    }\n",
        "\n",
        "    for key, value in company_map.items():\n",
        "        if key in company:\n",
        "            return value\n",
        "\n",
        "    return company\n",
        "\n",
        "users_df['company_clean'] = users_df['company'].apply(clean_company)\n",
        "company_counts = users_df[users_df['company_clean'] != '']['company_clean'].value_counts()\n",
        "most_common_company = company_counts.index[0]\n",
        "\n",
        "print(\"Most common company:\", most_common_company)\n",
        "print(\"\\nTop 5 Company counts:\")\n",
        "print(company_counts.head())"
      ],
      "metadata": {
        "colab": {
          "base_uri": "https://localhost:8080/"
        },
        "id": "hmNZzQ3ZNA-a",
        "outputId": "88a0fbaf-b0e9-4b93-fbcc-15fbf39f6b18"
      },
      "execution_count": null,
      "outputs": [
        {
          "output_type": "stream",
          "name": "stdout",
          "text": [
            "Most common company: google\n",
            "\n",
            "Top 5 Company counts:\n",
            "company_clean\n",
            "google         60\n",
            "eth zurich     58\n",
            "microsoft       9\n",
            "nvidia          7\n",
            "oracle labs     5\n",
            "Name: count, dtype: int64\n"
          ]
        }
      ]
    },
    {
      "cell_type": "code",
      "source": [
        "correlation = repos_df['has_projects'].corr(repos_df['has_wiki'])\n",
        "print(f\"Correlation: {correlation:.3f}\")"
      ],
      "metadata": {
        "colab": {
          "base_uri": "https://localhost:8080/"
        },
        "id": "h0dspzkRPeVv",
        "outputId": "94535e45-d78a-48d8-c7c4-1605ba1bd61b"
      },
      "execution_count": null,
      "outputs": [
        {
          "output_type": "stream",
          "name": "stdout",
          "text": [
            "Correlation: 0.363\n"
          ]
        }
      ]
    },
    {
      "cell_type": "code",
      "source": [
        "users_df['bio_word_count'] = users_df['bio'].fillna('').str.split().str.len()\n",
        "users_with_bio = users_df[users_df['bio_word_count'] > 0]\n",
        "correlation = users_with_bio['bio_word_count'].corr(users_with_bio['followers'])\n",
        "print(f\"Correlation: {correlation:.3f}\")"
      ],
      "metadata": {
        "colab": {
          "base_uri": "https://localhost:8080/"
        },
        "id": "REbGFDFXPm3I",
        "outputId": "8c6bfdaf-5dd4-47d8-b5a8-946c8aac1bf8"
      },
      "execution_count": null,
      "outputs": [
        {
          "output_type": "stream",
          "name": "stdout",
          "text": [
            "Correlation: 0.131\n"
          ]
        }
      ]
    },
    {
      "cell_type": "code",
      "source": [
        "users_df['surname'] = users_df['name'].str.split().str[-1]\n",
        "surname_counts = users_df['surname'].value_counts()\n",
        "most_common_count = surname_counts.max()\n",
        "most_common_surnames = surname_counts[surname_counts == most_common_count].index.tolist()\n",
        "most_common_surnames.sort()\n",
        "print(f\"Most common surname(s): {', '.join(most_common_surnames)}\")\n",
        "print(f\"Number of users with the most common surname: {most_common_count}\")"
      ],
      "metadata": {
        "id": "5_wV7iMKP35h",
        "outputId": "7837cf7f-73c1-4ff4-8bab-f0da8fbdccaa",
        "colab": {
          "base_uri": "https://localhost:8080/"
        }
      },
      "execution_count": 2,
      "outputs": [
        {
          "output_type": "stream",
          "name": "stdout",
          "text": [
            "Most common surname(s): Lab, Meier, Wang\n",
            "Number of users with the most common surname: 3\n"
          ]
        }
      ]
    }
  ]
}